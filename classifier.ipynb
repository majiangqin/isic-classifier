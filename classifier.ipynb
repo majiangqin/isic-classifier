{
 "cells": [
  {
   "cell_type": "code",
   "id": "initial_id",
   "metadata": {
    "collapsed": true,
    "ExecuteTime": {
     "end_time": "2025-05-06T02:43:35.029434Z",
     "start_time": "2025-05-06T02:43:35.027540Z"
    }
   },
   "source": [
    "import pandas as pd\n",
    "import os\n",
    "from PIL import Image\n",
    "import torch\n",
    "from torch.utils.data import TensorDataset, DataLoader\n",
    "from torchvision import transforms, models\n",
    "import torch.nn as nn\n",
    "from sklearn.metrics import roc_auc_score, accuracy_score, confusion_matrix, classification_report\n",
    "import matplotlib.pyplot as plt\n",
    "import random\n",
    "import numpy as np\n"
   ],
   "outputs": [],
   "execution_count": 36
  },
  {
   "metadata": {
    "ExecuteTime": {
     "end_time": "2025-05-06T02:43:35.349141Z",
     "start_time": "2025-05-06T02:43:35.346630Z"
    }
   },
   "cell_type": "code",
   "source": [
    "SEED = 42\n",
    "random.seed(SEED)\n",
    "numpy_seed = SEED\n",
    "np.random.seed(numpy_seed)\n",
    "torch.manual_seed(SEED)\n",
    "\n",
    "if torch.cuda.is_available():\n",
    "    torch.cuda.manual_seed_all(SEED)\n",
    "\n",
    "torch.backends.cudnn.determinstic = True\n",
    "torch.backends.cudnn.benchmar = False"
   ],
   "id": "ce5a489179e1fcaa",
   "outputs": [],
   "execution_count": 37
  },
  {
   "metadata": {
    "ExecuteTime": {
     "end_time": "2025-05-06T03:27:25.366798Z",
     "start_time": "2025-05-06T03:27:25.364340Z"
    }
   },
   "cell_type": "code",
   "source": [
    "train_img_dir = \"images/ISIC-2017_Training_Data\"\n",
    "val_img_dir = \"images/ISIC-2017_Validation_Data\"\n",
    "test_img_dir = \"images/ISIC-2017_Test_v2_Data\"\n",
    "\n",
    "train_csv = 'images/ISIC-2017_Training_Part3_GroundTruth.csv'\n",
    "val_csv = 'images/ISIC-2017_Validation_Part3_GroundTruth.csv'\n",
    "test_csv = 'images/ISIC-2017_Test_v2_Part3_GroundTruth.csv'\n",
    "\n",
    "batch_size = 32\n",
    "device = torch.device('cuda' if torch.cuda.is_available() else 'cpu')\n",
    "\n",
    "train_sample_size = 400"
   ],
   "id": "81d0d1dad1003396",
   "outputs": [],
   "execution_count": 53
  },
  {
   "metadata": {
    "ExecuteTime": {
     "end_time": "2025-05-06T03:27:25.665243Z",
     "start_time": "2025-05-06T03:27:25.658364Z"
    }
   },
   "cell_type": "code",
   "source": "pd.read_csv(test_csv)",
   "id": "b1e72667c8cc79b8",
   "outputs": [
    {
     "data": {
      "text/plain": [
       "         image_id  melanoma  seborrheic_keratosis\n",
       "0    ISIC_0012086       0.0                   1.0\n",
       "1    ISIC_0012092       0.0                   0.0\n",
       "2    ISIC_0012095       0.0                   0.0\n",
       "3    ISIC_0012134       0.0                   1.0\n",
       "4    ISIC_0012136       0.0                   1.0\n",
       "..            ...       ...                   ...\n",
       "595  ISIC_0016068       0.0                   0.0\n",
       "596  ISIC_0016069       0.0                   0.0\n",
       "597  ISIC_0016070       0.0                   0.0\n",
       "598  ISIC_0016071       0.0                   0.0\n",
       "599  ISIC_0016072       0.0                   0.0\n",
       "\n",
       "[600 rows x 3 columns]"
      ],
      "text/html": [
       "<div>\n",
       "<style scoped>\n",
       "    .dataframe tbody tr th:only-of-type {\n",
       "        vertical-align: middle;\n",
       "    }\n",
       "\n",
       "    .dataframe tbody tr th {\n",
       "        vertical-align: top;\n",
       "    }\n",
       "\n",
       "    .dataframe thead th {\n",
       "        text-align: right;\n",
       "    }\n",
       "</style>\n",
       "<table border=\"1\" class=\"dataframe\">\n",
       "  <thead>\n",
       "    <tr style=\"text-align: right;\">\n",
       "      <th></th>\n",
       "      <th>image_id</th>\n",
       "      <th>melanoma</th>\n",
       "      <th>seborrheic_keratosis</th>\n",
       "    </tr>\n",
       "  </thead>\n",
       "  <tbody>\n",
       "    <tr>\n",
       "      <th>0</th>\n",
       "      <td>ISIC_0012086</td>\n",
       "      <td>0.0</td>\n",
       "      <td>1.0</td>\n",
       "    </tr>\n",
       "    <tr>\n",
       "      <th>1</th>\n",
       "      <td>ISIC_0012092</td>\n",
       "      <td>0.0</td>\n",
       "      <td>0.0</td>\n",
       "    </tr>\n",
       "    <tr>\n",
       "      <th>2</th>\n",
       "      <td>ISIC_0012095</td>\n",
       "      <td>0.0</td>\n",
       "      <td>0.0</td>\n",
       "    </tr>\n",
       "    <tr>\n",
       "      <th>3</th>\n",
       "      <td>ISIC_0012134</td>\n",
       "      <td>0.0</td>\n",
       "      <td>1.0</td>\n",
       "    </tr>\n",
       "    <tr>\n",
       "      <th>4</th>\n",
       "      <td>ISIC_0012136</td>\n",
       "      <td>0.0</td>\n",
       "      <td>1.0</td>\n",
       "    </tr>\n",
       "    <tr>\n",
       "      <th>...</th>\n",
       "      <td>...</td>\n",
       "      <td>...</td>\n",
       "      <td>...</td>\n",
       "    </tr>\n",
       "    <tr>\n",
       "      <th>595</th>\n",
       "      <td>ISIC_0016068</td>\n",
       "      <td>0.0</td>\n",
       "      <td>0.0</td>\n",
       "    </tr>\n",
       "    <tr>\n",
       "      <th>596</th>\n",
       "      <td>ISIC_0016069</td>\n",
       "      <td>0.0</td>\n",
       "      <td>0.0</td>\n",
       "    </tr>\n",
       "    <tr>\n",
       "      <th>597</th>\n",
       "      <td>ISIC_0016070</td>\n",
       "      <td>0.0</td>\n",
       "      <td>0.0</td>\n",
       "    </tr>\n",
       "    <tr>\n",
       "      <th>598</th>\n",
       "      <td>ISIC_0016071</td>\n",
       "      <td>0.0</td>\n",
       "      <td>0.0</td>\n",
       "    </tr>\n",
       "    <tr>\n",
       "      <th>599</th>\n",
       "      <td>ISIC_0016072</td>\n",
       "      <td>0.0</td>\n",
       "      <td>0.0</td>\n",
       "    </tr>\n",
       "  </tbody>\n",
       "</table>\n",
       "<p>600 rows × 3 columns</p>\n",
       "</div>"
      ]
     },
     "execution_count": 54,
     "metadata": {},
     "output_type": "execute_result"
    }
   ],
   "execution_count": 54
  },
  {
   "metadata": {
    "ExecuteTime": {
     "end_time": "2025-05-06T03:27:25.890208Z",
     "start_time": "2025-05-06T03:27:25.887689Z"
    }
   },
   "cell_type": "code",
   "source": [
    "def create_transforms():\n",
    "    train_t = transforms.Compose([\n",
    "        transforms.Resize((224,224)),\n",
    "        transforms.RandomHorizontalFlip(),\n",
    "        transforms.RandomVerticalFlip(),\n",
    "        transforms.RandomRotation(15),\n",
    "        transforms.ToTensor(),\n",
    "        transforms.Normalize(\n",
    "        mean=[0.485,0.456,0.406],\n",
    "        std=[0.229, 0.224, 0.225]\n",
    "     )\n",
    "    ])\n",
    "\n",
    "    val_t = transforms.Compose([\n",
    "        transforms.Resize((224,224)),\n",
    "        transforms.ToTensor(),\n",
    "        transforms.Normalize(\n",
    "        mean=[0.485,0.456,0.406],\n",
    "        std=[0.229, 0.224, 0.225]\n",
    "        )\n",
    "    ])\n",
    "\n",
    "    return train_t, val_t\n",
    "\n"
   ],
   "id": "64c48a988fb2b5b9",
   "outputs": [],
   "execution_count": 55
  },
  {
   "metadata": {
    "ExecuteTime": {
     "end_time": "2025-05-06T03:27:26.143725Z",
     "start_time": "2025-05-06T03:27:26.139117Z"
    }
   },
   "cell_type": "code",
   "source": [
    "def make_loader(csv_path, img_dir, transform, shuffle=False, sample_size=None):\n",
    "    df = pd.read_csv(csv_path)\n",
    "    if sample_size:\n",
    "        df = df.sample(n=sample_size, random_state=42).reset_index(drop=True)\n",
    "    imgs, labels = [], []\n",
    "    for _, row in df.iterrows():\n",
    "        img_id = str(row.iloc[0])\n",
    "        label = int(row.iloc[1])\n",
    "        for ext in ('.jpg', '.jpeg'):\n",
    "            path = os.path.join(img_dir, img_id + ext)\n",
    "            if os.path.exists(path):\n",
    "                img = Image.open(path).convert('RGB')\n",
    "                break\n",
    "\n",
    "        else:\n",
    "            raise FileNotFoundError(f'no image for id: {img_id} in {img_dir}')\n",
    "        imgs.append(transform(img))\n",
    "        labels.append(label)\n",
    "    imgs_tensor = torch.stack(imgs)\n",
    "    labels_tensor = torch.tensor(labels,dtype=torch.long)\n",
    "    return DataLoader(TensorDataset(imgs_tensor, labels_tensor), batch_size=batch_size, shuffle=shuffle)\n",
    "\n",
    "\n",
    "\n"
   ],
   "id": "71decb980e362830",
   "outputs": [],
   "execution_count": 56
  },
  {
   "metadata": {
    "ExecuteTime": {
     "end_time": "2025-05-06T03:29:06.794805Z",
     "start_time": "2025-05-06T03:27:26.409150Z"
    }
   },
   "cell_type": "code",
   "source": [
    "train_transform, val_transform = create_transforms()\n",
    "train_loader = make_loader(train_csv, train_img_dir, train_transform, shuffle=True, sample_size=train_sample_size)\n",
    "val_loader = make_loader(val_csv, val_img_dir, val_transform, shuffle=False, sample_size=None)\n",
    "test_loader = make_loader(test_csv, test_img_dir, val_transform)"
   ],
   "id": "dbe66c914556419",
   "outputs": [],
   "execution_count": 57
  },
  {
   "metadata": {
    "ExecuteTime": {
     "end_time": "2025-05-06T03:29:06.819552Z",
     "start_time": "2025-05-06T03:29:06.805719Z"
    }
   },
   "cell_type": "code",
   "source": [
    "all_labels = []\n",
    "for _, y in val_loader:\n",
    "    all_labels.extend(y.tolist())\n",
    "print(\"Labels in val_loader:\", sorted(set(all_labels)),\n",
    "      \"counts:\", {cls: all_labels.count(cls) for cls in set(all_labels)})\n"
   ],
   "id": "6b8fc9a7c2cc0c70",
   "outputs": [
    {
     "name": "stdout",
     "output_type": "stream",
     "text": [
      "Labels in val_loader: [0, 1] counts: {0: 120, 1: 30}\n"
     ]
    }
   ],
   "execution_count": 58
  },
  {
   "metadata": {
    "ExecuteTime": {
     "end_time": "2025-05-06T03:29:06.830628Z",
     "start_time": "2025-05-06T03:29:06.825081Z"
    }
   },
   "cell_type": "code",
   "source": "pd.read_csv(train_csv).sample(n=train_sample_size, random_state=42)",
   "id": "33c60fbdfe23017b",
   "outputs": [
    {
     "data": {
      "text/plain": [
       "          image_id  melanoma  seborrheic_keratosis\n",
       "1860  ISIC_0014650       0.0                   1.0\n",
       "353   ISIC_0000434       1.0                   0.0\n",
       "1333  ISIC_0013012       0.0                   0.0\n",
       "905   ISIC_0010602       0.0                   0.0\n",
       "1289  ISIC_0012877       0.0                   0.0\n",
       "...            ...       ...                   ...\n",
       "965   ISIC_0011158       1.0                   0.0\n",
       "1284  ISIC_0012855       0.0                   0.0\n",
       "1739  ISIC_0014249       1.0                   0.0\n",
       "261   ISIC_0000313       1.0                   0.0\n",
       "535   ISIC_0006795       0.0                   0.0\n",
       "\n",
       "[400 rows x 3 columns]"
      ],
      "text/html": [
       "<div>\n",
       "<style scoped>\n",
       "    .dataframe tbody tr th:only-of-type {\n",
       "        vertical-align: middle;\n",
       "    }\n",
       "\n",
       "    .dataframe tbody tr th {\n",
       "        vertical-align: top;\n",
       "    }\n",
       "\n",
       "    .dataframe thead th {\n",
       "        text-align: right;\n",
       "    }\n",
       "</style>\n",
       "<table border=\"1\" class=\"dataframe\">\n",
       "  <thead>\n",
       "    <tr style=\"text-align: right;\">\n",
       "      <th></th>\n",
       "      <th>image_id</th>\n",
       "      <th>melanoma</th>\n",
       "      <th>seborrheic_keratosis</th>\n",
       "    </tr>\n",
       "  </thead>\n",
       "  <tbody>\n",
       "    <tr>\n",
       "      <th>1860</th>\n",
       "      <td>ISIC_0014650</td>\n",
       "      <td>0.0</td>\n",
       "      <td>1.0</td>\n",
       "    </tr>\n",
       "    <tr>\n",
       "      <th>353</th>\n",
       "      <td>ISIC_0000434</td>\n",
       "      <td>1.0</td>\n",
       "      <td>0.0</td>\n",
       "    </tr>\n",
       "    <tr>\n",
       "      <th>1333</th>\n",
       "      <td>ISIC_0013012</td>\n",
       "      <td>0.0</td>\n",
       "      <td>0.0</td>\n",
       "    </tr>\n",
       "    <tr>\n",
       "      <th>905</th>\n",
       "      <td>ISIC_0010602</td>\n",
       "      <td>0.0</td>\n",
       "      <td>0.0</td>\n",
       "    </tr>\n",
       "    <tr>\n",
       "      <th>1289</th>\n",
       "      <td>ISIC_0012877</td>\n",
       "      <td>0.0</td>\n",
       "      <td>0.0</td>\n",
       "    </tr>\n",
       "    <tr>\n",
       "      <th>...</th>\n",
       "      <td>...</td>\n",
       "      <td>...</td>\n",
       "      <td>...</td>\n",
       "    </tr>\n",
       "    <tr>\n",
       "      <th>965</th>\n",
       "      <td>ISIC_0011158</td>\n",
       "      <td>1.0</td>\n",
       "      <td>0.0</td>\n",
       "    </tr>\n",
       "    <tr>\n",
       "      <th>1284</th>\n",
       "      <td>ISIC_0012855</td>\n",
       "      <td>0.0</td>\n",
       "      <td>0.0</td>\n",
       "    </tr>\n",
       "    <tr>\n",
       "      <th>1739</th>\n",
       "      <td>ISIC_0014249</td>\n",
       "      <td>1.0</td>\n",
       "      <td>0.0</td>\n",
       "    </tr>\n",
       "    <tr>\n",
       "      <th>261</th>\n",
       "      <td>ISIC_0000313</td>\n",
       "      <td>1.0</td>\n",
       "      <td>0.0</td>\n",
       "    </tr>\n",
       "    <tr>\n",
       "      <th>535</th>\n",
       "      <td>ISIC_0006795</td>\n",
       "      <td>0.0</td>\n",
       "      <td>0.0</td>\n",
       "    </tr>\n",
       "  </tbody>\n",
       "</table>\n",
       "<p>400 rows × 3 columns</p>\n",
       "</div>"
      ]
     },
     "execution_count": 59,
     "metadata": {},
     "output_type": "execute_result"
    }
   ],
   "execution_count": 59
  },
  {
   "metadata": {
    "ExecuteTime": {
     "end_time": "2025-05-06T03:29:06.858655Z",
     "start_time": "2025-05-06T03:29:06.854106Z"
    }
   },
   "cell_type": "code",
   "source": [
    "df_sub = pd.read_csv(train_csv).sample(n=train_sample_size, random_state=42)\n",
    "freq  = df_sub.iloc[:,1].value_counts().sort_index()\n",
    "weights = torch.tensor([freq.max()/freq[i] for i in freq.index], dtype=torch.float32, device=device)\n",
    "criterion = nn.CrossEntropyLoss(weight=weights)"
   ],
   "id": "6a0364a58cb50c6d",
   "outputs": [],
   "execution_count": 60
  },
  {
   "metadata": {
    "ExecuteTime": {
     "end_time": "2025-05-06T03:29:07.127378Z",
     "start_time": "2025-05-06T03:29:06.880808Z"
    }
   },
   "cell_type": "code",
   "source": [
    "model = models.resnet50(weights=models.ResNet50_Weights.DEFAULT)\n",
    "model.fc = nn.Linear(model.fc.in_features, 2)\n",
    "model = model.to(device)\n",
    "\n",
    "optimizer = torch.optim.Adam(model.parameters(), lr=1e-4)\n",
    "scheduler = torch.optim.lr_scheduler.StepLR(optimizer, step_size=5, gamma=0.1)\n",
    "best_auc, epochs_no_improve, patience = 0.0, 0, 3\n"
   ],
   "id": "6c318801d687eac7",
   "outputs": [],
   "execution_count": 61
  },
  {
   "metadata": {
    "ExecuteTime": {
     "end_time": "2025-05-06T03:29:07.141887Z",
     "start_time": "2025-05-06T03:29:07.137664Z"
    }
   },
   "cell_type": "code",
   "source": [
    "import pandas as pd\n",
    "\n",
    "df_val = pd.read_csv(val_csv)\n",
    "print(\"Validation set label counts:\\n\", df_val.iloc[:,1].value_counts())\n"
   ],
   "id": "19603d21bbe500e2",
   "outputs": [
    {
     "name": "stdout",
     "output_type": "stream",
     "text": [
      "Validation set label counts:\n",
      " melanoma\n",
      "0.0    120\n",
      "1.0     30\n",
      "Name: count, dtype: int64\n"
     ]
    }
   ],
   "execution_count": 62
  },
  {
   "metadata": {
    "ExecuteTime": {
     "end_time": "2025-05-06T03:33:43.096290Z",
     "start_time": "2025-05-06T03:29:07.147725Z"
    }
   },
   "cell_type": "code",
   "source": [
    "val_auc_history = []\n",
    "best_auc =  0.0\n",
    "for epoch in range(1,21):\n",
    "    model.train()\n",
    "    for X, y in train_loader:\n",
    "        X, y = X.to(device), y.to(device)\n",
    "        optimizer.zero_grad()\n",
    "        out =  model(X)\n",
    "        loss = criterion(out, y)\n",
    "        loss.backward()\n",
    "        optimizer.step()\n",
    "\n",
    "    model.eval()\n",
    "    probs, labs =[], []\n",
    "    with torch.no_grad():\n",
    "        for X, y in val_loader:\n",
    "\n",
    "            p = torch.softmax(model(X.to(device)), dim=1)[:,1].cpu()\n",
    "            probs.extend(p.tolist())\n",
    "            labs.extend(y.tolist())\n",
    "\n",
    "    auc = roc_auc_score(labs, probs)\n",
    "    val_auc_history.append(auc)\n",
    "    print(f'epoch {epoch} - val auc: {auc:.4f}')\n",
    "\n",
    "    if auc > best_auc:\n",
    "            best_auc = auc\n",
    "            torch.save(model.state_dict(), 'best_model.pt')\n",
    "\n",
    "    else:\n",
    "        epochs_no_improve += 1\n",
    "\n",
    "        if epochs_no_improve >= patience:\n",
    "            print('early stopping triggered')\n",
    "            break\n",
    "\n",
    "    scheduler.step()\n",
    "\n",
    "\n"
   ],
   "id": "db0c27bba14bd9ea",
   "outputs": [
    {
     "name": "stdout",
     "output_type": "stream",
     "text": [
      "epoch 1 - val auc: 0.7347\n",
      "epoch 2 - val auc: 0.6842\n",
      "epoch 3 - val auc: 0.6764\n",
      "epoch 4 - val auc: 0.6794\n",
      "early stopping triggered\n"
     ]
    }
   ],
   "execution_count": 63
  },
  {
   "metadata": {
    "ExecuteTime": {
     "end_time": "2025-05-06T03:33:43.185818Z",
     "start_time": "2025-05-06T03:33:43.113915Z"
    }
   },
   "cell_type": "code",
   "source": [
    "plt.figure()\n",
    "plt.plot(range(1, len(val_auc_history)+1), val_auc_history)\n",
    "plt.xlabel('epoch')\n",
    "plt.ylabel('valiDation AUC')\n",
    "plt.title('validation AUC over Epochs')\n",
    "plt.show()\n",
    "\n",
    "model.load_state_dict(torch.load('best_model.pt'))"
   ],
   "id": "9d3dab7097b28a35",
   "outputs": [
    {
     "data": {
      "text/plain": [
       "<Figure size 640x480 with 1 Axes>"
      ],
      "image/png": "[encoded data removed]"
     },
     "metadata": {},
     "output_type": "display_data"
    },
    {
     "data": {
      "text/plain": [
       "<All keys matched successfully>"
      ]
     },
     "execution_count": 64,
     "metadata": {},
     "output_type": "execute_result"
    }
   ],
   "execution_count": 64
  },
  {
   "metadata": {
    "ExecuteTime": {
     "end_time": "2025-05-06T03:34:35.741348Z",
     "start_time": "2025-05-06T03:33:43.194021Z"
    }
   },
   "cell_type": "code",
   "source": [
    "model.load_state_dict(torch.load('best_model.pt'))\n",
    "model.eval()\n",
    "probs, labs = [], []\n",
    "with torch.no_grad():\n",
    "    for X, y in test_loader:\n",
    "        p = torch.softmax(model(X.to(device)), dim=1)[:,1].cpu()\n",
    "        probs.extend(p.tolist());labs.extend(y.tolist())\n",
    "preds = [1 if p>=0.5 else 0 for p in probs]"
   ],
   "id": "efe336e7e08ae3f6",
   "outputs": [],
   "execution_count": 65
  },
  {
   "metadata": {
    "ExecuteTime": {
     "end_time": "2025-05-06T03:34:35.755638Z",
     "start_time": "2025-05-06T03:34:35.751555Z"
    }
   },
   "cell_type": "code",
   "source": [
    "print('Test AUC:', roc_auc_score(labs, probs))\n",
    "print('accuracy:', accuracy_score(labs, preds))\n",
    "tn, fp, fn, tp = confusion_matrix(labs, preds).ravel()\n",
    "print('sensitivity:', tp/(tp+fn), 'specificity:', tn/(tn+fp))\n"
   ],
   "id": "92999f857689b5fa",
   "outputs": [
    {
     "name": "stdout",
     "output_type": "stream",
     "text": [
      "Test AUC: 0.6428482950222081\n",
      "accuracy: 0.8016666666666666\n",
      "sensitivity: 0.1282051282051282 specificity: 0.9648033126293996\n"
     ]
    }
   ],
   "execution_count": 66
  },
  {
   "metadata": {
    "ExecuteTime": {
     "end_time": "2025-05-06T03:34:35.827356Z",
     "start_time": "2025-05-06T03:34:35.822152Z"
    }
   },
   "cell_type": "code",
   "source": "print(classification_report(labs, preds, target_names=['non-melanoma', 'melanoma']))",
   "id": "51f1425a916bba71",
   "outputs": [
    {
     "name": "stdout",
     "output_type": "stream",
     "text": [
      "              precision    recall  f1-score   support\n",
      "\n",
      "non-melanoma       0.82      0.96      0.89       483\n",
      "    melanoma       0.47      0.13      0.20       117\n",
      "\n",
      "    accuracy                           0.80       600\n",
      "   macro avg       0.64      0.55      0.54       600\n",
      "weighted avg       0.75      0.80      0.75       600\n",
      "\n"
     ]
    }
   ],
   "execution_count": 67
  },
  {
   "metadata": {
    "ExecuteTime": {
     "end_time": "2025-05-06T03:34:35.896811Z",
     "start_time": "2025-05-06T03:34:35.895179Z"
    }
   },
   "cell_type": "code",
   "source": "",
   "id": "208d086d9da12a4d",
   "outputs": [],
   "execution_count": null
  },
  {
   "metadata": {
    "ExecuteTime": {
     "end_time": "2025-05-06T03:19:20.324567Z",
     "start_time": "2025-05-06T03:19:20.323183Z"
    }
   },
   "cell_type": "code",
   "source": "",
   "id": "83fdfc6997aa7ebe",
   "outputs": [],
   "execution_count": null
  },
  {
   "metadata": {},
   "cell_type": "code",
   "outputs": [],
   "execution_count": null,
   "source": "",
   "id": "d391382cd8f4c01d"
  }
 ],
 "metadata": {
  "kernelspec": {
   "display_name": "Python 3",
   "language": "python",
   "name": "python3"
  },
  "language_info": {
   "codemirror_mode": {
    "name": "ipython",
    "version": 2
   },
   "file_extension": ".py",
   "mimetype": "text/x-python",
   "name": "python",
   "nbconvert_exporter": "python",
   "pygments_lexer": "ipython2",
   "version": "2.7.6"
  }
 },
 "nbformat": 4,
 "nbformat_minor": 5
}
