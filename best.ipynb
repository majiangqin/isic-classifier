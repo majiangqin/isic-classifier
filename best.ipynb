{
 "cells": [
  {
   "cell_type": "code",
   "id": "initial_id",
   "metadata": {
    "collapsed": true,
    "ExecuteTime": {
     "end_time": "2025-05-08T14:27:06.331485Z",
     "start_time": "2025-05-08T14:27:06.328029Z"
    }
   },
   "source": [
    "from torch.utils.data import TensorDataset, DataLoader, WeightedRandomSampler\n",
    "from torchvision import transforms\n",
    "import torch.nn as nn\n",
    "import torch.nn.functional as F\n",
    "from sklearn.metrics import roc_auc_score, accuracy_score, confusion_matrix, classification_report, roc_curve\n",
    "import matplotlib.pyplot as plt\n",
    "import timm\n",
    "import random\n",
    "import numpy as np\n",
    "import os\n",
    "import pandas as pd\n",
    "from PIL import Image\n",
    "import torch"
   ],
   "outputs": [],
   "execution_count": 5
  },
  {
   "metadata": {
    "ExecuteTime": {
     "end_time": "2025-05-08T14:27:09.486536Z",
     "start_time": "2025-05-08T14:27:09.482239Z"
    }
   },
   "cell_type": "code",
   "source": [
    "SEED = 42\n",
    "random.seed(SEED)\n",
    "numpy_seed = SEED\n",
    "np.random.seed(numpy_seed)\n",
    "torch.manual_seed(SEED)\n",
    "if torch.cuda.is_available():\n",
    "    torch.cuda.manual_seed_all(SEED)\n",
    "torch.backends.cudnn.deterministic = True\n",
    "torch.backends.cudnn.benchmark = False"
   ],
   "id": "8465091c998d6cf6",
   "outputs": [],
   "execution_count": 6
  },
  {
   "metadata": {
    "ExecuteTime": {
     "end_time": "2025-05-08T14:27:19.830047Z",
     "start_time": "2025-05-08T14:27:19.827328Z"
    }
   },
   "cell_type": "code",
   "source": [
    "train_img_dir     = \"images/ISIC-2017_Training_Data\"\n",
    "val_img_dir       = \"images/ISIC-2017_Validation_Data\"\n",
    "test_img_dir      = \"images/ISIC-2017_Test_v2_Data\"\n",
    "train_csv         = \"images/ISIC-2017_Training_Part3_GroundTruth.csv\"\n",
    "val_csv           = \"images/ISIC-2017_Validation_Part3_GroundTruth.csv\"\n",
    "test_csv          = \"images/ISIC-2017_Test_v2_Part3_GroundTruth.csv\"\n",
    "batch_size        = 32\n",
    "device            = torch.device('cuda' if torch.cuda.is_available() else 'cpu')"
   ],
   "id": "e6db4a489229f528",
   "outputs": [],
   "execution_count": 7
  },
  {
   "metadata": {
    "ExecuteTime": {
     "end_time": "2025-05-08T14:28:39.189213Z",
     "start_time": "2025-05-08T14:28:39.186146Z"
    }
   },
   "cell_type": "code",
   "source": [
    "def create_transforms():\n",
    "    train_t = transforms.Compose([\n",
    "        transforms.Resize((224,224)),\n",
    "        transforms.RandomHorizontalFlip(),\n",
    "        transforms.RandomVerticalFlip(),\n",
    "        transforms.RandomRotation(15),\n",
    "        transforms.ColorJitter(brightness=0.2, contrast=0.2, saturation=0.2),\n",
    "        transforms.ToTensor(),\n",
    "        transforms.Normalize([0.485,0.456,0.406],[0.229,0.224,0.225]),\n",
    "        transforms.RandomErasing(p=0.5)\n",
    "    ])\n",
    "    val_t = transforms.Compose([\n",
    "        transforms.Resize((224,224)),\n",
    "        transforms.ToTensor(),\n",
    "        transforms.Normalize([0.485,0.456,0.406],[0.229,0.224,0.225])\n",
    "    ])\n",
    "    return train_t, val_t"
   ],
   "id": "a7e62478f3ccf557",
   "outputs": [],
   "execution_count": 8
  },
  {
   "metadata": {
    "ExecuteTime": {
     "end_time": "2025-05-08T14:28:46.788448Z",
     "start_time": "2025-05-08T14:28:46.785258Z"
    }
   },
   "cell_type": "code",
   "source": [
    "def load_image_tensors(df, img_dir, transform):\n",
    "    imgs, labels = [], []\n",
    "    for row in df.itertuples(index=False, name=None):\n",
    "        img_id, label = str(row[0]), int(row[1])\n",
    "        for ext in ('.jpg','.jpeg'):\n",
    "            path = os.path.join(img_dir, img_id+ext)\n",
    "            if os.path.exists(path):\n",
    "                imgs.append(transform(Image.open(path).convert('RGB')))\n",
    "                labels.append(label)\n",
    "                break\n",
    "    return torch.stack(imgs), torch.tensor(labels, dtype=torch.long)"
   ],
   "id": "ce6a91636ef4f942",
   "outputs": [],
   "execution_count": 9
  },
  {
   "metadata": {
    "ExecuteTime": {
     "end_time": "2025-05-08T14:32:06.017781Z",
     "start_time": "2025-05-08T14:30:57.246460Z"
    }
   },
   "cell_type": "code",
   "source": [
    "train_t, val_t = create_transforms()\n",
    "\n",
    "df_all = pd.read_csv(train_csv)\n",
    "\n",
    "imgs_all, labs_all = load_image_tensors(df_all, train_img_dir, train_t)\n",
    "\n",
    "class_counts = df_all.iloc[:,1].value_counts().sort_index()\n",
    "\n",
    "sample_weights = [1.0/class_counts[int(l)] for l in labs_all]\n",
    "g = torch.Generator().manual_seed(SEED)\n",
    "sampler_full = WeightedRandomSampler(sample_weights, len(sample_weights), replacement=True, generator=g)\n",
    "train_loader = DataLoader(TensorDataset(imgs_all, labs_all), batch_size=batch_size, sampler=sampler_full, num_workers=4)\n"
   ],
   "id": "4956be3bccb6cb7f",
   "outputs": [],
   "execution_count": 10
  },
  {
   "metadata": {
    "ExecuteTime": {
     "end_time": "2025-05-08T14:33:54.436143Z",
     "start_time": "2025-05-08T14:32:45.864975Z"
    }
   },
   "cell_type": "code",
   "source": [
    "\n",
    "df_val = pd.read_csv(val_csv)\n",
    "imgs_v, labs_v = load_image_tensors(df_val, val_img_dir, val_t)\n",
    "val_loader = DataLoader(TensorDataset(imgs_v, labs_v), batch_size=batch_size, shuffle=False, num_workers=2)\n",
    "\n",
    "df_test = pd.read_csv(test_csv)\n",
    "imgs_te, labs_te = load_image_tensors(df_test, test_img_dir, val_t)\n",
    "test_loader = DataLoader(TensorDataset(imgs_te, labs_te), batch_size=batch_size, shuffle=False, num_workers=2)"
   ],
   "id": "76106bae8b74b634",
   "outputs": [],
   "execution_count": 11
  },
  {
   "metadata": {
    "ExecuteTime": {
     "end_time": "2025-05-08T14:34:46.438203Z",
     "start_time": "2025-05-08T14:34:45.880466Z"
    }
   },
   "cell_type": "code",
   "source": [
    "\n",
    "weights_tensor = torch.tensor([class_counts.max()/class_counts[i] for i in class_counts.index], dtype=torch.float32, device=device)\n",
    "criterion = nn.CrossEntropyLoss(weight=weights_tensor)\n",
    "\n",
    "\n",
    "model = timm.create_model('efficientnet_b3', pretrained=True, num_classes=2).to(device)\n",
    "optimizer = torch.optim.Adam(model.parameters(), lr=1e-4, weight_decay=1e-4)\n",
    "scheduler = torch.optim.lr_scheduler.StepLR(optimizer, step_size=5, gamma=0.1)"
   ],
   "id": "655f9fd7214fc8a4",
   "outputs": [],
   "execution_count": 12
  },
  {
   "metadata": {
    "ExecuteTime": {
     "end_time": "2025-05-08T17:08:52.815824Z",
     "start_time": "2025-05-08T14:35:22.124957Z"
    }
   },
   "cell_type": "code",
   "source": [
    "best_auc, no_improve = 0.0, 0\n",
    "history = []\n",
    "patience = 3\n",
    "for epoch in range(1,21):\n",
    "        model.train()\n",
    "        for X,y in train_loader:\n",
    "            X, y = X.to(device), y.to(device)\n",
    "            optimizer.zero_grad()\n",
    "            logits = model(X)\n",
    "            loss = criterion(logits, y)\n",
    "            loss.backward()\n",
    "            torch.nn.utils.clip_grad_norm_(model.parameters(),1.0)\n",
    "            optimizer.step()\n",
    "        scheduler.step()\n",
    "\n",
    "\n",
    "        model.eval()\n",
    "        probs, labs = [], []\n",
    "        with torch.no_grad():\n",
    "            for X,y in val_loader:\n",
    "                X = X.to(device)\n",
    "                p = torch.softmax(model(X),dim=1)[:,1].cpu()\n",
    "                probs.extend(p.tolist()); labs.extend(y.tolist())\n",
    "        auc = roc_auc_score(labs,probs)\n",
    "        history.append(auc)\n",
    "        print(f\"Epoch {epoch} — Val AUC: {auc:.4f}\")\n",
    "        if auc > best_auc:\n",
    "            best_auc = auc; no_improve = 0\n",
    "            torch.save(model.state_dict(),'best_model.pt')\n",
    "        else:\n",
    "            no_improve += 1\n",
    "            if no_improve>=patience:\n",
    "                print(\"Early stopping\")\n",
    "                break"
   ],
   "id": "4b1e1b928d0b6b88",
   "outputs": [
    {
     "name": "stdout",
     "output_type": "stream",
     "text": [
      "Epoch 1 — Val AUC: 0.7975\n",
      "Epoch 2 — Val AUC: 0.7806\n",
      "Epoch 3 — Val AUC: 0.7578\n",
      "Epoch 4 — Val AUC: 0.7811\n",
      "Early stopping\n"
     ]
    }
   ],
   "execution_count": 13
  },
  {
   "metadata": {
    "ExecuteTime": {
     "end_time": "2025-05-08T17:19:16.027916Z",
     "start_time": "2025-05-08T17:19:15.948422Z"
    }
   },
   "cell_type": "code",
   "source": [
    "\n",
    "plt.figure()\n",
    "plt.plot(history)\n",
    "plt.xlabel('Epoch')\n",
    "plt.ylabel('Val AUC')\n",
    "plt.title('AUC')\n",
    "plt.savefig('auc.png')\n",
    "plt.show()\n",
    "\n"
   ],
   "id": "17eebf88e0a715bf",
   "outputs": [
    {
     "data": {
      "text/plain": [
       "<Figure size 640x480 with 1 Axes>"
      ],
      "image/png": "[encoded data removed]"
     },
     "metadata": {},
     "output_type": "display_data"
    }
   ],
   "execution_count": 15
  },
  {
   "metadata": {
    "ExecuteTime": {
     "end_time": "2025-05-08T17:20:25.889735Z",
     "start_time": "2025-05-08T17:19:33.512143Z"
    }
   },
   "cell_type": "code",
   "source": [
    "model.load_state_dict(torch.load('best_model.pt'))\n",
    "model.eval()\n",
    "probs, labs = [], []\n",
    "with torch.no_grad():\n",
    "        for X,y in test_loader:\n",
    "            p = torch.softmax(model(X.to(device)),dim=1)[:,1].cpu()\n",
    "            probs.extend(p.tolist()); labs.extend(y.tolist())\n",
    "print('Test AUC:',roc_auc_score(labs,probs))\n",
    "preds = [1 if p>=0.5 else 0 for p in probs]\n",
    "\n",
    "print(classification_report(labs,preds,target_names=['non-melanoma','melanoma']))"
   ],
   "id": "d1fc1d69eeadfca2",
   "outputs": [
    {
     "name": "stdout",
     "output_type": "stream",
     "text": [
      "Test AUC: 0.7074463378811204\n",
      "              precision    recall  f1-score   support\n",
      "\n",
      "non-melanoma       0.88      0.71      0.79       483\n",
      "    melanoma       0.34      0.62      0.44       117\n",
      "\n",
      "    accuracy                           0.69       600\n",
      "   macro avg       0.61      0.66      0.61       600\n",
      "weighted avg       0.78      0.69      0.72       600\n",
      "\n"
     ]
    }
   ],
   "execution_count": 16
  },
  {
   "metadata": {},
   "cell_type": "code",
   "outputs": [],
   "execution_count": null,
   "source": "",
   "id": "bd25f041d174afc3"
  }
 ],
 "metadata": {
  "kernelspec": {
   "display_name": "Python 3",
   "language": "python",
   "name": "python3"
  },
  "language_info": {
   "codemirror_mode": {
    "name": "ipython",
    "version": 2
   },
   "file_extension": ".py",
   "mimetype": "text/x-python",
   "name": "python",
   "nbconvert_exporter": "python",
   "pygments_lexer": "ipython2",
   "version": "2.7.6"
  }
 },
 "nbformat": 4,
 "nbformat_minor": 5
}
